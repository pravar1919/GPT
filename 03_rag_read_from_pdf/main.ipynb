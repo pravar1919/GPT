{
 "cells": [
  {
   "cell_type": "code",
   "execution_count": 19,
   "id": "47e39283",
   "metadata": {},
   "outputs": [],
   "source": [
    "from langchain_community.document_loaders import PyPDFLoader\n",
    "loader = PyPDFLoader(\"pravar_sharma_updated.pdf\")\n",
    "docs = loader.load()"
   ]
  },
  {
   "cell_type": "code",
   "execution_count": 20,
   "id": "e00e1eb1",
   "metadata": {},
   "outputs": [
    {
     "data": {
      "text/plain": [
       "[Document(metadata={'producer': 'Skia/PDF m137', 'creator': 'Mozilla/5.0 (X11; Linux x86_64) AppleWebKit/537.36 (KHTML, like Gecko) HeadlessChrome/137.0.0.0 Safari/537.36', 'creationdate': 'D:20250615101126', 'title': 'first resume', 'moddate': 'D:20250615101126', 'author': 'first resume', 'keywords': 'Python, Django, FastAPI\\nJavaScript, React, Vite, Tailwind CSS\\nREST APIs, PostgreSQL, MySQL\\nAWS (EC2, S3, Lambda, SQS, IAM)\\nDocker, GitHub Actions, CI/CD\\nMicroservices Architecture\\nSystem Design, Agile/Scrum\\nGenerative AI Integration (LangChain, OpenAI API)', 'source': 'pravar_sharma_updated.pdf', 'total_pages': 1, 'page': 0, 'page_label': '1'}, page_content='Pravar Sharma\\nJaipur,India pravar.sharma@gmail.com+91 9414472171 in/pravar-sharma-3410a199\\nSUMMARY\\nResults-driven Backend Developer with 5+ years of experience designing and developing scalable web applications using Python, Django,\\nReact, and AWS. Proven track record in building SaaS platforms, integrating third-party APIs, and deploying secure, cloud-native apps.\\nCurrently exploring Generative AI to enhance intelligent application capabilities.\\nEXPERIENCE\\nSenior Engineer Cloud Services & Software\\nLtimindtree September 2023 - PresentNoida,\\nDeveloped microservice-based backend modules to manage real-time agricultural data across 12+ regions.•\\nBuilt APIs for agri-input tracking, crop yield insights, and weather integration, enhancing farmer advisory systems.•\\nImproved backend performance by optimizing PostgreSQL queries, cutting response latency by 40%.•\\nPython developer\\nQuixom Technology (Trootech Business Solutions Pvt. Ltd.) September 2022 - July 2023Ahmedabad,\\nDesigned scalable RESTful APIs for booking, cancellation, and user management.•\\nIntegrated Google Cloud Scheduler for flight status automation, reducing operational overhead by 80%.•\\nUsed Bigtable for high-speed access to temporary flight metadata, optimizing read/write operations.•\\nEnsured system stability and low-latency API performance under 10K+ concurrent users.•\\nPython Developer\\nIdeepeners Pvt. Ltd. April 2021 - August 2022Jaipur,\\nIntegrated Google Analytics and Google Ads APIs to aggregate and process store data, supporting 50+ active Shopify merchants.•\\nDeveloped 20+ secure Django RESTful API endpoints, reducing average data processing time by 35%.•\\nBuilt dynamic dashboards in React with advanced filtering and charting, increasing client report usability by 60%.•\\nAchieved 99.9% uptime and scaled infrastructure to handle 1M+ data points monthly, improving merchant decision-making efficiency.•\\nPython Developer\\nDgrity Solutions Pvt. Ltd. July 2019 - October 2020Delhi,\\nAssisted senior developers in developing and maintaining Python/Django web applications serving over 5,000 users.•\\nContributed to building and testing RESTful APIs, reducing feature rollout time by 20%.•\\nOptimized database queries and indexing in PostgreSQL, improving data retrieval performance by 30%.•\\nCollaborated in debugging and code review sessions, helping resolve 25+ backend issues during development cycles.•\\nEDUCATION\\nBachelor of Technology (B.Tech) in Electrical Engineering\\nRajasthan Technical University•Kota•2013•70.70\\nSKILLS\\nPython, Django, FastAPI•\\nJavaScript, React, Vite, Tailwind CSS•\\nREST APIs, PostgreSQL, MySQL•\\nAWS (EC2, S3, Lambda, SQS, IAM)•\\nDocker, GitHub Actions, CI/CD•\\nMicroservices Architecture•\\nSystem Design, Agile/Scrum•\\nGenerative AI Integration (LangChain, OpenAI API)•')]"
      ]
     },
     "execution_count": 20,
     "metadata": {},
     "output_type": "execute_result"
    }
   ],
   "source": [
    "docs"
   ]
  },
  {
   "cell_type": "code",
   "execution_count": 21,
   "id": "906e4e10",
   "metadata": {},
   "outputs": [],
   "source": [
    "from langchain.text_splitter import RecursiveCharacterTextSplitter\n",
    "\n",
    "text_splitter = RecursiveCharacterTextSplitter(chunk_size=1000, chunk_overlap=100)\n",
    "documents = text_splitter.split_documents(docs)"
   ]
  },
  {
   "cell_type": "code",
   "execution_count": 22,
   "id": "0a8d66d4",
   "metadata": {},
   "outputs": [
    {
     "data": {
      "text/plain": [
       "[Document(metadata={'producer': 'Skia/PDF m137', 'creator': 'Mozilla/5.0 (X11; Linux x86_64) AppleWebKit/537.36 (KHTML, like Gecko) HeadlessChrome/137.0.0.0 Safari/537.36', 'creationdate': 'D:20250615101126', 'title': 'first resume', 'moddate': 'D:20250615101126', 'author': 'first resume', 'keywords': 'Python, Django, FastAPI\\nJavaScript, React, Vite, Tailwind CSS\\nREST APIs, PostgreSQL, MySQL\\nAWS (EC2, S3, Lambda, SQS, IAM)\\nDocker, GitHub Actions, CI/CD\\nMicroservices Architecture\\nSystem Design, Agile/Scrum\\nGenerative AI Integration (LangChain, OpenAI API)', 'source': 'pravar_sharma_updated.pdf', 'total_pages': 1, 'page': 0, 'page_label': '1'}, page_content='Pravar Sharma\\nJaipur,India pravar.sharma@gmail.com+91 9414472171 in/pravar-sharma-3410a199\\nSUMMARY\\nResults-driven Backend Developer with 5+ years of experience designing and developing scalable web applications using Python, Django,\\nReact, and AWS. Proven track record in building SaaS platforms, integrating third-party APIs, and deploying secure, cloud-native apps.\\nCurrently exploring Generative AI to enhance intelligent application capabilities.\\nEXPERIENCE\\nSenior Engineer Cloud Services & Software\\nLtimindtree September 2023 - PresentNoida,\\nDeveloped microservice-based backend modules to manage real-time agricultural data across 12+ regions.•\\nBuilt APIs for agri-input tracking, crop yield insights, and weather integration, enhancing farmer advisory systems.•\\nImproved backend performance by optimizing PostgreSQL queries, cutting response latency by 40%.•\\nPython developer\\nQuixom Technology (Trootech Business Solutions Pvt. Ltd.) September 2022 - July 2023Ahmedabad,'),\n",
       " Document(metadata={'producer': 'Skia/PDF m137', 'creator': 'Mozilla/5.0 (X11; Linux x86_64) AppleWebKit/537.36 (KHTML, like Gecko) HeadlessChrome/137.0.0.0 Safari/537.36', 'creationdate': 'D:20250615101126', 'title': 'first resume', 'moddate': 'D:20250615101126', 'author': 'first resume', 'keywords': 'Python, Django, FastAPI\\nJavaScript, React, Vite, Tailwind CSS\\nREST APIs, PostgreSQL, MySQL\\nAWS (EC2, S3, Lambda, SQS, IAM)\\nDocker, GitHub Actions, CI/CD\\nMicroservices Architecture\\nSystem Design, Agile/Scrum\\nGenerative AI Integration (LangChain, OpenAI API)', 'source': 'pravar_sharma_updated.pdf', 'total_pages': 1, 'page': 0, 'page_label': '1'}, page_content='Quixom Technology (Trootech Business Solutions Pvt. Ltd.) September 2022 - July 2023Ahmedabad,\\nDesigned scalable RESTful APIs for booking, cancellation, and user management.•\\nIntegrated Google Cloud Scheduler for flight status automation, reducing operational overhead by 80%.•\\nUsed Bigtable for high-speed access to temporary flight metadata, optimizing read/write operations.•\\nEnsured system stability and low-latency API performance under 10K+ concurrent users.•\\nPython Developer\\nIdeepeners Pvt. Ltd. April 2021 - August 2022Jaipur,\\nIntegrated Google Analytics and Google Ads APIs to aggregate and process store data, supporting 50+ active Shopify merchants.•\\nDeveloped 20+ secure Django RESTful API endpoints, reducing average data processing time by 35%.•\\nBuilt dynamic dashboards in React with advanced filtering and charting, increasing client report usability by 60%.•'),\n",
       " Document(metadata={'producer': 'Skia/PDF m137', 'creator': 'Mozilla/5.0 (X11; Linux x86_64) AppleWebKit/537.36 (KHTML, like Gecko) HeadlessChrome/137.0.0.0 Safari/537.36', 'creationdate': 'D:20250615101126', 'title': 'first resume', 'moddate': 'D:20250615101126', 'author': 'first resume', 'keywords': 'Python, Django, FastAPI\\nJavaScript, React, Vite, Tailwind CSS\\nREST APIs, PostgreSQL, MySQL\\nAWS (EC2, S3, Lambda, SQS, IAM)\\nDocker, GitHub Actions, CI/CD\\nMicroservices Architecture\\nSystem Design, Agile/Scrum\\nGenerative AI Integration (LangChain, OpenAI API)', 'source': 'pravar_sharma_updated.pdf', 'total_pages': 1, 'page': 0, 'page_label': '1'}, page_content='Achieved 99.9% uptime and scaled infrastructure to handle 1M+ data points monthly, improving merchant decision-making efficiency.•\\nPython Developer\\nDgrity Solutions Pvt. Ltd. July 2019 - October 2020Delhi,\\nAssisted senior developers in developing and maintaining Python/Django web applications serving over 5,000 users.•\\nContributed to building and testing RESTful APIs, reducing feature rollout time by 20%.•\\nOptimized database queries and indexing in PostgreSQL, improving data retrieval performance by 30%.•\\nCollaborated in debugging and code review sessions, helping resolve 25+ backend issues during development cycles.•\\nEDUCATION\\nBachelor of Technology (B.Tech) in Electrical Engineering\\nRajasthan Technical University•Kota•2013•70.70\\nSKILLS\\nPython, Django, FastAPI•\\nJavaScript, React, Vite, Tailwind CSS•\\nREST APIs, PostgreSQL, MySQL•\\nAWS (EC2, S3, Lambda, SQS, IAM)•\\nDocker, GitHub Actions, CI/CD•\\nMicroservices Architecture•\\nSystem Design, Agile/Scrum•'),\n",
       " Document(metadata={'producer': 'Skia/PDF m137', 'creator': 'Mozilla/5.0 (X11; Linux x86_64) AppleWebKit/537.36 (KHTML, like Gecko) HeadlessChrome/137.0.0.0 Safari/537.36', 'creationdate': 'D:20250615101126', 'title': 'first resume', 'moddate': 'D:20250615101126', 'author': 'first resume', 'keywords': 'Python, Django, FastAPI\\nJavaScript, React, Vite, Tailwind CSS\\nREST APIs, PostgreSQL, MySQL\\nAWS (EC2, S3, Lambda, SQS, IAM)\\nDocker, GitHub Actions, CI/CD\\nMicroservices Architecture\\nSystem Design, Agile/Scrum\\nGenerative AI Integration (LangChain, OpenAI API)', 'source': 'pravar_sharma_updated.pdf', 'total_pages': 1, 'page': 0, 'page_label': '1'}, page_content='Docker, GitHub Actions, CI/CD•\\nMicroservices Architecture•\\nSystem Design, Agile/Scrum•\\nGenerative AI Integration (LangChain, OpenAI API)•')]"
      ]
     },
     "execution_count": 22,
     "metadata": {},
     "output_type": "execute_result"
    }
   ],
   "source": [
    "documents"
   ]
  },
  {
   "cell_type": "code",
   "execution_count": 23,
   "id": "6c5059e9",
   "metadata": {},
   "outputs": [],
   "source": [
    "from langchain_community.embeddings import OllamaEmbeddings\n",
    "from langchain_community.vectorstores import FAISS\n",
    "\n",
    "db = FAISS.from_documents(documents, OllamaEmbeddings(model=\"llama3.2\"))"
   ]
  },
  {
   "cell_type": "code",
   "execution_count": 24,
   "id": "a62e5620",
   "metadata": {},
   "outputs": [
    {
     "data": {
      "text/plain": [
       "'Docker, GitHub Actions, CI/CD•\\nMicroservices Architecture•\\nSystem Design, Agile/Scrum•\\nGenerative AI Integration (LangChain, OpenAI API)•'"
      ]
     },
     "execution_count": 24,
     "metadata": {},
     "output_type": "execute_result"
    }
   ],
   "source": [
    "query = \"RESTful APIs for booking, cancellation\"\n",
    "result = db.similarity_search(query)\n",
    "result[0].page_content"
   ]
  },
  {
   "cell_type": "code",
   "execution_count": 25,
   "id": "3c73884f",
   "metadata": {},
   "outputs": [
    {
     "data": {
      "text/plain": [
       "OllamaLLM(model='llama3.2')"
      ]
     },
     "execution_count": 25,
     "metadata": {},
     "output_type": "execute_result"
    }
   ],
   "source": [
    "from langchain_ollama import OllamaLLM\n",
    "llm = OllamaLLM(model=\"llama3.2\")\n",
    "llm"
   ]
  },
  {
   "cell_type": "code",
   "execution_count": 26,
   "id": "7ca73a69",
   "metadata": {},
   "outputs": [],
   "source": [
    "# design Chatprompt template\n",
    "from langchain_core.prompts import ChatPromptTemplate\n",
    "# context is all the documents there are in the vector Database.\n",
    "# input is the question I am asking.\n",
    "prompt = ChatPromptTemplate.from_template(\n",
    "    \"\"\"\n",
    "    Answer the following question based only on the provided context.\n",
    "    Think step by step before providing answer.\n",
    "    <context>\n",
    "    {context}\n",
    "    </context>\n",
    "    Question: {input}\n",
    "    \"\"\"\n",
    ")"
   ]
  },
  {
   "cell_type": "code",
   "execution_count": 27,
   "id": "63bfb4af",
   "metadata": {},
   "outputs": [],
   "source": [
    "# create stuff document chain\n",
    "from langchain.chains.combine_documents import create_stuff_documents_chain\n",
    "\n",
    "doc_chain = create_stuff_documents_chain(llm, prompt)"
   ]
  },
  {
   "cell_type": "code",
   "execution_count": 28,
   "id": "15346926",
   "metadata": {},
   "outputs": [
    {
     "data": {
      "text/plain": [
       "VectorStoreRetriever(tags=['FAISS', 'OllamaEmbeddings'], vectorstore=<langchain_community.vectorstores.faiss.FAISS object at 0x12066e5d0>, search_kwargs={})"
      ]
     },
     "execution_count": 28,
     "metadata": {},
     "output_type": "execute_result"
    }
   ],
   "source": [
    "# Retrivers\n",
    "\"\"\"\n",
    "It is an interface that return the document given an unstructured query, it is more like a catalog that finds the index \n",
    "if the query you have asked and then find it in the vector db, and also helps in narrow down the search.\n",
    "\"\"\"\n",
    "\n",
    "retriver = db.as_retriever()\n",
    "retriver"
   ]
  },
  {
   "cell_type": "code",
   "execution_count": 29,
   "id": "7b006085",
   "metadata": {},
   "outputs": [],
   "source": [
    "# Retrival Chain\n",
    "\"\"\"\n",
    "When we combine retriver anc document chain together it is known as retrival chain.\n",
    "This chain takes user input, which is then pass to retriver to fetch relevent documents.\n",
    "This combined is pass to an LLM to generate response.\n",
    "\"\"\"\n",
    "\n",
    "from langchain.chains import create_retrieval_chain\n",
    "retrival_chain = create_retrieval_chain(retriver, doc_chain)\n"
   ]
  },
  {
   "cell_type": "code",
   "execution_count": 30,
   "id": "cdaba430",
   "metadata": {},
   "outputs": [],
   "source": [
    "response = retrival_chain.invoke({\"input\": \"What are the companies he has worked in so far?\"})"
   ]
  },
  {
   "cell_type": "code",
   "execution_count": 31,
   "id": "22a56a4d",
   "metadata": {},
   "outputs": [
    {
     "data": {
      "text/plain": [
       "'Based on the provided context, Pravar Sharma has worked for the following companies:\\n\\n1. Ltimindtree (Senior Engineer Cloud Services & Software)\\n2. Quixom Technology (Trootech Business Solutions Pvt. Ltd.) - twice (as Python developer and again as part of Trootech Business Solutions Pvt. Ltd.)\\n3. Ideeperners Pvt. Ltd.\\n4. Dgrity Solutions Pvt. Ltd.\\n\\nNote that he also mentions working in Ahmedabad, Noida, Jaipur, Delhi, and other locations, but these are likely the cities or regions where his companies are based, rather than separate jobs.'"
      ]
     },
     "execution_count": 31,
     "metadata": {},
     "output_type": "execute_result"
    }
   ],
   "source": [
    "response['answer']"
   ]
  },
  {
   "cell_type": "code",
   "execution_count": 32,
   "id": "25c7358e",
   "metadata": {},
   "outputs": [],
   "source": [
    "response = retrival_chain.invoke({\"input\": \"what is his education?\"})"
   ]
  },
  {
   "cell_type": "code",
   "execution_count": 33,
   "id": "4b0208a2",
   "metadata": {},
   "outputs": [
    {
     "data": {
      "text/plain": [
       "\"According to the provided context, Pravar Sharma's education is as follows:\\n\\n* Bachelor of Technology (B.Tech) in Electrical Engineering\\nfrom Rajasthan Technical University, Kota, with a percentage of 70.70%.\""
      ]
     },
     "execution_count": 33,
     "metadata": {},
     "output_type": "execute_result"
    }
   ],
   "source": [
    "response['answer']"
   ]
  },
  {
   "cell_type": "code",
   "execution_count": 34,
   "id": "ea7ca4ee",
   "metadata": {},
   "outputs": [],
   "source": [
    "response = retrival_chain.invoke({\"input\": \"\"})"
   ]
  }
 ],
 "metadata": {
  "kernelspec": {
   "display_name": ".venv",
   "language": "python",
   "name": "python3"
  },
  "language_info": {
   "codemirror_mode": {
    "name": "ipython",
    "version": 3
   },
   "file_extension": ".py",
   "mimetype": "text/x-python",
   "name": "python",
   "nbconvert_exporter": "python",
   "pygments_lexer": "ipython3",
   "version": "3.12.11"
  }
 },
 "nbformat": 4,
 "nbformat_minor": 5
}
