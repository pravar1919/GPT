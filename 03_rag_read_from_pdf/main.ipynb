{
 "cells": [
  {
   "cell_type": "code",
   "execution_count": 2,
   "id": "47e39283",
   "metadata": {},
   "outputs": [],
   "source": [
    "from langchain_community.document_loaders import PyPDFLoader\n",
    "loader = PyPDFLoader(\"pravar_sharma_updated.pdf\")\n",
    "docs = loader.load()"
   ]
  },
  {
   "cell_type": "code",
   "execution_count": 3,
   "id": "e00e1eb1",
   "metadata": {},
   "outputs": [
    {
     "data": {
      "text/plain": [
       "[Document(metadata={'producer': 'Skia/PDF m137', 'creator': 'Mozilla/5.0 (X11; Linux x86_64) AppleWebKit/537.36 (KHTML, like Gecko) HeadlessChrome/137.0.0.0 Safari/537.36', 'creationdate': 'D:20250615101126', 'title': 'first resume', 'moddate': 'D:20250615101126', 'author': 'first resume', 'keywords': 'Python, Django, FastAPI\\nJavaScript, React, Vite, Tailwind CSS\\nREST APIs, PostgreSQL, MySQL\\nAWS (EC2, S3, Lambda, SQS, IAM)\\nDocker, GitHub Actions, CI/CD\\nMicroservices Architecture\\nSystem Design, Agile/Scrum\\nGenerative AI Integration (LangChain, OpenAI API)', 'source': 'pravar_sharma_updated.pdf', 'total_pages': 1, 'page': 0, 'page_label': '1'}, page_content='Pravar Sharma\\nJaipur,India pravar.sharma@gmail.com+91 9414472171 in/pravar-sharma-3410a199\\nSUMMARY\\nResults-driven Backend Developer with 5+ years of experience designing and developing scalable web applications using Python, Django,\\nReact, and AWS. Proven track record in building SaaS platforms, integrating third-party APIs, and deploying secure, cloud-native apps.\\nCurrently exploring Generative AI to enhance intelligent application capabilities.\\nEXPERIENCE\\nSenior Engineer Cloud Services & Software\\nLtimindtree September 2023 - PresentNoida,\\nDeveloped microservice-based backend modules to manage real-time agricultural data across 12+ regions.•\\nBuilt APIs for agri-input tracking, crop yield insights, and weather integration, enhancing farmer advisory systems.•\\nImproved backend performance by optimizing PostgreSQL queries, cutting response latency by 40%.•\\nPython developer\\nQuixom Technology (Trootech Business Solutions Pvt. Ltd.) September 2022 - July 2023Ahmedabad,\\nDesigned scalable RESTful APIs for booking, cancellation, and user management.•\\nIntegrated Google Cloud Scheduler for flight status automation, reducing operational overhead by 80%.•\\nUsed Bigtable for high-speed access to temporary flight metadata, optimizing read/write operations.•\\nEnsured system stability and low-latency API performance under 10K+ concurrent users.•\\nPython Developer\\nIdeepeners Pvt. Ltd. April 2021 - August 2022Jaipur,\\nIntegrated Google Analytics and Google Ads APIs to aggregate and process store data, supporting 50+ active Shopify merchants.•\\nDeveloped 20+ secure Django RESTful API endpoints, reducing average data processing time by 35%.•\\nBuilt dynamic dashboards in React with advanced filtering and charting, increasing client report usability by 60%.•\\nAchieved 99.9% uptime and scaled infrastructure to handle 1M+ data points monthly, improving merchant decision-making efficiency.•\\nPython Developer\\nDgrity Solutions Pvt. Ltd. July 2019 - October 2020Delhi,\\nAssisted senior developers in developing and maintaining Python/Django web applications serving over 5,000 users.•\\nContributed to building and testing RESTful APIs, reducing feature rollout time by 20%.•\\nOptimized database queries and indexing in PostgreSQL, improving data retrieval performance by 30%.•\\nCollaborated in debugging and code review sessions, helping resolve 25+ backend issues during development cycles.•\\nEDUCATION\\nBachelor of Technology (B.Tech) in Electrical Engineering\\nRajasthan Technical University•Kota•2013•70.70\\nSKILLS\\nPython, Django, FastAPI•\\nJavaScript, React, Vite, Tailwind CSS•\\nREST APIs, PostgreSQL, MySQL•\\nAWS (EC2, S3, Lambda, SQS, IAM)•\\nDocker, GitHub Actions, CI/CD•\\nMicroservices Architecture•\\nSystem Design, Agile/Scrum•\\nGenerative AI Integration (LangChain, OpenAI API)•')]"
      ]
     },
     "execution_count": 3,
     "metadata": {},
     "output_type": "execute_result"
    }
   ],
   "source": [
    "docs"
   ]
  },
  {
   "cell_type": "code",
   "execution_count": 6,
   "id": "906e4e10",
   "metadata": {},
   "outputs": [],
   "source": [
    "from langchain.text_splitter import RecursiveCharacterTextSplitter\n",
    "\n",
    "text_splitter = RecursiveCharacterTextSplitter(chunk_size=1000, chunk_overlap=100)\n",
    "documents = text_splitter.split_documents(docs)"
   ]
  },
  {
   "cell_type": "code",
   "execution_count": 7,
   "id": "0a8d66d4",
   "metadata": {},
   "outputs": [
    {
     "data": {
      "text/plain": [
       "[Document(metadata={'producer': 'Skia/PDF m137', 'creator': 'Mozilla/5.0 (X11; Linux x86_64) AppleWebKit/537.36 (KHTML, like Gecko) HeadlessChrome/137.0.0.0 Safari/537.36', 'creationdate': 'D:20250615101126', 'title': 'first resume', 'moddate': 'D:20250615101126', 'author': 'first resume', 'keywords': 'Python, Django, FastAPI\\nJavaScript, React, Vite, Tailwind CSS\\nREST APIs, PostgreSQL, MySQL\\nAWS (EC2, S3, Lambda, SQS, IAM)\\nDocker, GitHub Actions, CI/CD\\nMicroservices Architecture\\nSystem Design, Agile/Scrum\\nGenerative AI Integration (LangChain, OpenAI API)', 'source': 'pravar_sharma_updated.pdf', 'total_pages': 1, 'page': 0, 'page_label': '1'}, page_content='Pravar Sharma\\nJaipur,India pravar.sharma@gmail.com+91 9414472171 in/pravar-sharma-3410a199\\nSUMMARY\\nResults-driven Backend Developer with 5+ years of experience designing and developing scalable web applications using Python, Django,\\nReact, and AWS. Proven track record in building SaaS platforms, integrating third-party APIs, and deploying secure, cloud-native apps.\\nCurrently exploring Generative AI to enhance intelligent application capabilities.\\nEXPERIENCE\\nSenior Engineer Cloud Services & Software\\nLtimindtree September 2023 - PresentNoida,\\nDeveloped microservice-based backend modules to manage real-time agricultural data across 12+ regions.•\\nBuilt APIs for agri-input tracking, crop yield insights, and weather integration, enhancing farmer advisory systems.•\\nImproved backend performance by optimizing PostgreSQL queries, cutting response latency by 40%.•\\nPython developer\\nQuixom Technology (Trootech Business Solutions Pvt. Ltd.) September 2022 - July 2023Ahmedabad,'),\n",
       " Document(metadata={'producer': 'Skia/PDF m137', 'creator': 'Mozilla/5.0 (X11; Linux x86_64) AppleWebKit/537.36 (KHTML, like Gecko) HeadlessChrome/137.0.0.0 Safari/537.36', 'creationdate': 'D:20250615101126', 'title': 'first resume', 'moddate': 'D:20250615101126', 'author': 'first resume', 'keywords': 'Python, Django, FastAPI\\nJavaScript, React, Vite, Tailwind CSS\\nREST APIs, PostgreSQL, MySQL\\nAWS (EC2, S3, Lambda, SQS, IAM)\\nDocker, GitHub Actions, CI/CD\\nMicroservices Architecture\\nSystem Design, Agile/Scrum\\nGenerative AI Integration (LangChain, OpenAI API)', 'source': 'pravar_sharma_updated.pdf', 'total_pages': 1, 'page': 0, 'page_label': '1'}, page_content='Quixom Technology (Trootech Business Solutions Pvt. Ltd.) September 2022 - July 2023Ahmedabad,\\nDesigned scalable RESTful APIs for booking, cancellation, and user management.•\\nIntegrated Google Cloud Scheduler for flight status automation, reducing operational overhead by 80%.•\\nUsed Bigtable for high-speed access to temporary flight metadata, optimizing read/write operations.•\\nEnsured system stability and low-latency API performance under 10K+ concurrent users.•\\nPython Developer\\nIdeepeners Pvt. Ltd. April 2021 - August 2022Jaipur,\\nIntegrated Google Analytics and Google Ads APIs to aggregate and process store data, supporting 50+ active Shopify merchants.•\\nDeveloped 20+ secure Django RESTful API endpoints, reducing average data processing time by 35%.•\\nBuilt dynamic dashboards in React with advanced filtering and charting, increasing client report usability by 60%.•'),\n",
       " Document(metadata={'producer': 'Skia/PDF m137', 'creator': 'Mozilla/5.0 (X11; Linux x86_64) AppleWebKit/537.36 (KHTML, like Gecko) HeadlessChrome/137.0.0.0 Safari/537.36', 'creationdate': 'D:20250615101126', 'title': 'first resume', 'moddate': 'D:20250615101126', 'author': 'first resume', 'keywords': 'Python, Django, FastAPI\\nJavaScript, React, Vite, Tailwind CSS\\nREST APIs, PostgreSQL, MySQL\\nAWS (EC2, S3, Lambda, SQS, IAM)\\nDocker, GitHub Actions, CI/CD\\nMicroservices Architecture\\nSystem Design, Agile/Scrum\\nGenerative AI Integration (LangChain, OpenAI API)', 'source': 'pravar_sharma_updated.pdf', 'total_pages': 1, 'page': 0, 'page_label': '1'}, page_content='Achieved 99.9% uptime and scaled infrastructure to handle 1M+ data points monthly, improving merchant decision-making efficiency.•\\nPython Developer\\nDgrity Solutions Pvt. Ltd. July 2019 - October 2020Delhi,\\nAssisted senior developers in developing and maintaining Python/Django web applications serving over 5,000 users.•\\nContributed to building and testing RESTful APIs, reducing feature rollout time by 20%.•\\nOptimized database queries and indexing in PostgreSQL, improving data retrieval performance by 30%.•\\nCollaborated in debugging and code review sessions, helping resolve 25+ backend issues during development cycles.•\\nEDUCATION\\nBachelor of Technology (B.Tech) in Electrical Engineering\\nRajasthan Technical University•Kota•2013•70.70\\nSKILLS\\nPython, Django, FastAPI•\\nJavaScript, React, Vite, Tailwind CSS•\\nREST APIs, PostgreSQL, MySQL•\\nAWS (EC2, S3, Lambda, SQS, IAM)•\\nDocker, GitHub Actions, CI/CD•\\nMicroservices Architecture•\\nSystem Design, Agile/Scrum•'),\n",
       " Document(metadata={'producer': 'Skia/PDF m137', 'creator': 'Mozilla/5.0 (X11; Linux x86_64) AppleWebKit/537.36 (KHTML, like Gecko) HeadlessChrome/137.0.0.0 Safari/537.36', 'creationdate': 'D:20250615101126', 'title': 'first resume', 'moddate': 'D:20250615101126', 'author': 'first resume', 'keywords': 'Python, Django, FastAPI\\nJavaScript, React, Vite, Tailwind CSS\\nREST APIs, PostgreSQL, MySQL\\nAWS (EC2, S3, Lambda, SQS, IAM)\\nDocker, GitHub Actions, CI/CD\\nMicroservices Architecture\\nSystem Design, Agile/Scrum\\nGenerative AI Integration (LangChain, OpenAI API)', 'source': 'pravar_sharma_updated.pdf', 'total_pages': 1, 'page': 0, 'page_label': '1'}, page_content='Docker, GitHub Actions, CI/CD•\\nMicroservices Architecture•\\nSystem Design, Agile/Scrum•\\nGenerative AI Integration (LangChain, OpenAI API)•')]"
      ]
     },
     "execution_count": 7,
     "metadata": {},
     "output_type": "execute_result"
    }
   ],
   "source": [
    "documents"
   ]
  },
  {
   "cell_type": "code",
   "execution_count": 11,
   "id": "6c5059e9",
   "metadata": {},
   "outputs": [],
   "source": [
    "from langchain_community.embeddings import OllamaEmbeddings\n",
    "from langchain_community.vectorstores import FAISS\n",
    "\n",
    "db = FAISS.from_documents(documents, OllamaEmbeddings(model=\"llama3.2\"))"
   ]
  },
  {
   "cell_type": "code",
   "execution_count": 13,
   "id": "a62e5620",
   "metadata": {},
   "outputs": [
    {
     "data": {
      "text/plain": [
       "'Docker, GitHub Actions, CI/CD•\\nMicroservices Architecture•\\nSystem Design, Agile/Scrum•\\nGenerative AI Integration (LangChain, OpenAI API)•'"
      ]
     },
     "execution_count": 13,
     "metadata": {},
     "output_type": "execute_result"
    }
   ],
   "source": [
    "query = \"RESTful APIs for booking, cancellation\"\n",
    "result = db.similarity_search(query)\n",
    "result[0].page_content"
   ]
  },
  {
   "cell_type": "code",
   "execution_count": 22,
   "id": "3c73884f",
   "metadata": {},
   "outputs": [
    {
     "data": {
      "text/plain": [
       "OllamaLLM(model='llama3.2')"
      ]
     },
     "execution_count": 22,
     "metadata": {},
     "output_type": "execute_result"
    }
   ],
   "source": [
    "from langchain_ollama import OllamaLLM\n",
    "llm = OllamaLLM(model=\"llama3.2\")\n",
    "llm"
   ]
  },
  {
   "cell_type": "code",
   "execution_count": 23,
   "id": "7ca73a69",
   "metadata": {},
   "outputs": [],
   "source": [
    "# design Chatprompt template\n",
    "from langchain_core.prompts import ChatPromptTemplate\n",
    "# context is all the documents there are in the vector Database.\n",
    "# input is the question I am asking.\n",
    "prompt = ChatPromptTemplate.from_template(\n",
    "    \"\"\"\n",
    "    Answer the following question based only on the provided context.\n",
    "    Think step by step before providing answer.\n",
    "    <context>\n",
    "    {context}\n",
    "    </context>\n",
    "    Question: {input}\n",
    "    \"\"\"\n",
    ")"
   ]
  },
  {
   "cell_type": "code",
   "execution_count": 24,
   "id": "63bfb4af",
   "metadata": {},
   "outputs": [],
   "source": [
    "# create stuff document chain\n",
    "from langchain.chains.combine_documents import create_stuff_documents_chain\n",
    "\n",
    "doc_chain = create_stuff_documents_chain(llm, prompt)"
   ]
  },
  {
   "cell_type": "code",
   "execution_count": 25,
   "id": "15346926",
   "metadata": {},
   "outputs": [
    {
     "data": {
      "text/plain": [
       "VectorStoreRetriever(tags=['FAISS', 'OllamaEmbeddings'], vectorstore=<langchain_community.vectorstores.faiss.FAISS object at 0x1252e20c0>, search_kwargs={})"
      ]
     },
     "execution_count": 25,
     "metadata": {},
     "output_type": "execute_result"
    }
   ],
   "source": [
    "# Retrivers\n",
    "\"\"\"\n",
    "It is an interface that return the document given an unstructured query, it is more like a catalog that finds the index \n",
    "if the query you have asked and then find it in the vector db, and also helps in narrow down the search.\n",
    "\"\"\"\n",
    "\n",
    "retriver = db.as_retriever()\n",
    "retriver"
   ]
  },
  {
   "cell_type": "code",
   "execution_count": 26,
   "id": "7b006085",
   "metadata": {},
   "outputs": [],
   "source": [
    "# Retrival Chain\n",
    "\"\"\"\n",
    "When we combine retriver anc document chain together it is known as retrival chain.\n",
    "This chain takes user input, which is then pass to retriver to fetch relevent documents.\n",
    "This combined is pass to an LLM to generate response.\n",
    "\"\"\"\n",
    "\n",
    "from langchain.chains import create_retrieval_chain\n",
    "retrival_chain = create_retrieval_chain(retriver, doc_chain)\n"
   ]
  },
  {
   "cell_type": "code",
   "execution_count": 34,
   "id": "cdaba430",
   "metadata": {},
   "outputs": [],
   "source": [
    "response = retrival_chain.invoke({\"input\": \"I just wanted to know what is is expert on? based on the project he has mentioned not just the skills he mentioned.\"\"\"})"
   ]
  },
  {
   "cell_type": "code",
   "execution_count": 35,
   "id": "22a56a4d",
   "metadata": {},
   "outputs": [
    {
     "data": {
      "text/plain": [
       "\"Based on the provided context, it seems that Pravar Sharma is an expert in designing and developing scalable web applications using Python, Django, React, and AWS. He has a proven track record of building SaaS platforms, integrating third-party APIs, and deploying secure, cloud-native apps.\\n\\nSpecifically, his experience in microservices architecture, system design, Agile/Scrum, and CI/CD pipelines suggests that he is well-versed in designing and developing complex, scalable systems. His work on Generative AI integration (LangChain, OpenAI API) indicates that he is also interested in exploring the potential of AI to enhance intelligent application capabilities.\\n\\nIn terms of specific areas where he has demonstrated expertise, it appears that Pravar Sharma has a strong background in:\\n\\n1. Building scalable RESTful APIs and microservice-based backend modules.\\n2. Integrating third-party APIs and deploying secure, cloud-native apps.\\n3. Optimizing database queries and indexing for high-performance data retrieval.\\n4. Improving API performance under heavy loads (e.g., 10K+ concurrent users).\\n5. Developing dynamic dashboards with advanced filtering and charting.\\n\\nOverall, Pravar Sharma's expertise seems to be focused on designing and developing scalable, cloud-native web applications that integrate AI capabilities, with a strong emphasis on system design, Agile/Scrum methodologies, and microservices architecture.\""
      ]
     },
     "execution_count": 35,
     "metadata": {},
     "output_type": "execute_result"
    }
   ],
   "source": [
    "response['answer']"
   ]
  },
  {
   "cell_type": "code",
   "execution_count": null,
   "id": "25c7358e",
   "metadata": {},
   "outputs": [],
   "source": []
  }
 ],
 "metadata": {
  "kernelspec": {
   "display_name": ".venv",
   "language": "python",
   "name": "python3"
  },
  "language_info": {
   "codemirror_mode": {
    "name": "ipython",
    "version": 3
   },
   "file_extension": ".py",
   "mimetype": "text/x-python",
   "name": "python",
   "nbconvert_exporter": "python",
   "pygments_lexer": "ipython3",
   "version": "3.12.11"
  }
 },
 "nbformat": 4,
 "nbformat_minor": 5
}
